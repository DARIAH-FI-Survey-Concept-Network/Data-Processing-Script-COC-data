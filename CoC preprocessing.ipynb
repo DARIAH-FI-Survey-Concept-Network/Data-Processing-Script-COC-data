{
 "cells": [
  {
   "cell_type": "markdown",
   "id": "9aa7360e",
   "metadata": {},
   "source": [
    "# Code of Conduct data preprocessing for Self-organizing map analysis"
   ]
  },
  {
   "cell_type": "markdown",
   "id": "fd5e23f1",
   "metadata": {},
   "source": [
    "This notebook presents the steps of data preprocessing including data cleaning, renaming variables and labelling."
   ]
  },
  {
   "cell_type": "code",
   "execution_count": null,
   "id": "62a488e2",
   "metadata": {},
   "outputs": [],
   "source": [
    "if (!require(\"pacman\")) install.packages(\"pacman\")"
   ]
  },
  {
   "cell_type": "code",
   "execution_count": 2,
   "id": "dbe7a7f0",
   "metadata": {},
   "outputs": [],
   "source": [
    "pacman::p_load(tidyverse, readxl, tidyr, dplyr, expss, sjlabelled, labelled, fastDummies) # load R packages"
   ]
  },
  {
   "cell_type": "code",
   "execution_count": 3,
   "id": "a3d39dc4",
   "metadata": {},
   "outputs": [],
   "source": [
    "#set directory\n",
    "path <- c(\"~/Documents/R/CoC\")\n",
    "setwd(path)"
   ]
  },
  {
   "cell_type": "markdown",
   "id": "60462fce",
   "metadata": {},
   "source": [
    "The data was downloaded from the Otakantaa.fi platform where the survey has taken place. The data from the Code of Conduct project is sensitive and cannot be currently published in its original way. It has the structure of 27 variables and 85 observations. The code provided next reads the data, renames the variables, gives variables values and value labels."
   ]
  },
  {
   "cell_type": "markdown",
   "id": "2320c7b9",
   "metadata": {},
   "source": [
    "First, we read the data which was downloaded in excel format."
   ]
  },
  {
   "cell_type": "code",
   "execution_count": 4,
   "id": "235f40f7",
   "metadata": {},
   "outputs": [
    {
     "data": {
      "text/html": [
       "<style>\n",
       ".list-inline {list-style: none; margin:0; padding: 0}\n",
       ".list-inline>li {display: inline-block}\n",
       ".list-inline>li:not(:last-child)::after {content: \"\\00b7\"; padding: 0 .5ex}\n",
       "</style>\n",
       "<ol class=list-inline><li>85</li><li>33</li></ol>\n"
      ],
      "text/latex": [
       "\\begin{enumerate*}\n",
       "\\item 85\n",
       "\\item 33\n",
       "\\end{enumerate*}\n"
      ],
      "text/markdown": [
       "1. 85\n",
       "2. 33\n",
       "\n",
       "\n"
      ],
      "text/plain": [
       "[1] 85 33"
      ]
     },
     "metadata": {},
     "output_type": "display_data"
    }
   ],
   "source": [
    "#read data\n",
    "data <- read_excel(\"data/otakantaa_2022-07-29.xlsx\")\n",
    "\n",
    "#explore the data\n",
    "dim(data)"
   ]
  },
  {
   "cell_type": "markdown",
   "id": "68f5de59",
   "metadata": {},
   "source": [
    "## Renaming variables and value labels"
   ]
  },
  {
   "cell_type": "markdown",
   "id": "cfa05bdd",
   "metadata": {},
   "source": [
    "Then we rename all the variables from the question form to short form that would be easier to use in further analysis."
   ]
  },
  {
   "cell_type": "code",
   "execution_count": 5,
   "id": "195c9d17",
   "metadata": {},
   "outputs": [],
   "source": [
    "#rename variables\n",
    "data <- select(data, -c(1:5)) %>%\n",
    "  dplyr::rename(\n",
    "    Relationship_to_the_faculty = \"Relationship to the faculty:\",\n",
    "    Fluency_in_Finnish = \"How fluent do you consider yourself in Finnish? (1-6 from fluent to no skills at all)\",\n",
    "    Discipline = \"Which discipline or sector of the faculty do you most identify with?\",\n",
    "    feel_positive = \"In general, I feel very positive about the Faculty\",\n",
    "    treated_fairly = \"I am treated fairly at the Faculty\",\n",
    "    safe  = \"I feel safe at the Faculty\",\n",
    "    connected_comm = \"I feel connected to some community at the Faculty\",\n",
    "    positive_role = \"In general, I feel very positive about my role at the Faculty\",\n",
    "    failure = \"At times, I feel like I am a failure in my work or studies\",\n",
    "    close_people = \"I feel close to people at the Faculty\",\n",
    "    support_each_other = \"People at the Faculty support each other\",\n",
    "    support_me = \"People at the Faculty support me\",\n",
    "    respect_each_other = \"People at the Faculty treat each other with respect\",\n",
    "    respect_me = \"People at the Faculty treat me with respect\",\n",
    "    appr_each_other = \"People at the Faculty appreciate each other\",\n",
    "    appr_me = \"People at the Faculty appreciate me\",\n",
    "    role = \"How are you feeling in your role(s) related to the Faculty?\",\n",
    "    language = \"Have you experienced difficulties related to language policies at the Faculty and not feeling equal?\",\n",
    "    situation = \"In which situations have you observed or experienced incidents that you consider inappropriate or unfair behavior?\",\n",
    "    experience  = \"Do you have any experiences of raising concerns about discrimination, oppression or inappropriate behavior, and what was the response?\",\n",
    "    barrier = \"What kinds of barriers do you face when raising issues of unfair or inappropriate behavior?\",\n",
    "    injustice = \"What kinds of structural injustice do you experience, and does it have an impact on you?\",\n",
    "    consquence = \"What consequences should come from not following the code of conduct?\",\n",
    "    change = \"What kinds of changes would you like the faculty to make in response to structures of discrimination or oppression?\",\n",
    "    intervention = \"What kinds of interventions would you like the faculty to undertake in response to inappropriate behavior?\",\n",
    "    action = \"What kinds of concrete actions could the faculty undertake to enhance social interactions and the sense of belonging to the community?\",\n",
    "    els = \"Is there something else that you would like to share?\"\n",
    ")"
   ]
  },
  {
   "cell_type": "markdown",
   "id": "6350414a",
   "metadata": {},
   "source": [
    "Now we rename the value labels of background variables to numeric type."
   ]
  },
  {
   "cell_type": "code",
   "execution_count": 6,
   "id": "68219015",
   "metadata": {},
   "outputs": [],
   "source": [
    "#rename the value labels to numeric format\n",
    "data <- data %>% select(-4) %>%\n",
    "    mutate(\n",
    "        Gender = dplyr::recode(Gender,  \"Male\" = 3, \n",
    "                                        \"Female\" = 2, \n",
    "                                        \"Other\" = 1,\n",
    "                                        \"Don’t want to answer\" = 0,\n",
    "                                        .default = NA_real_), #leave it because it's important group\n",
    "        Fluency_in_Finnish = dplyr::recode(Fluency_in_Finnish, \n",
    "                                            \"Native\" = 5, \n",
    "                                            \"Advanced\" = 4, \n",
    "                                            \"Intermediate\" = 3, \n",
    "                                            \"Elementary\" = 2, \n",
    "                                            \"Beginner\" = 1, \n",
    "                                            \"No skills\" = 0,\n",
    "                                            .default = NA_real_),\n",
    "        Relationship_to_the_faculty = dplyr::recode(Relationship_to_the_faculty, \n",
    "                                        \"Staff: Professor-level\" = 3, \n",
    "                                        \"Staff: Other teaching staff\" = 3, \n",
    "                                        \"Phd student\" = 2, \n",
    "                                        \"Phd student , Staff: Other teaching staff\" = 2,\n",
    "                                        \"Phd student , Staff: Other\" = 2,\n",
    "                                        \"Bachelor or Master student\" = 1,                \n",
    "                                        \"Exchange student or other\" = 1,               \n",
    "                                        \"Bachelor or Master student , Staff: Other\" = 1,    \n",
    "                                        \"Staff: Other\" = 0, \n",
    "                                        \"Alumni, collaborator, other\" = 0,\n",
    "                                        .default = NA_real_)\n",
    ")\n",
    "\n",
    "#\"Don't want to answer\" option is interpreted as NA despite the gender question"
   ]
  },
  {
   "cell_type": "markdown",
   "id": "6f4c4a87",
   "metadata": {},
   "source": [
    "Then we rename the value labels of the Likert scale questions to numeric type."
   ]
  },
  {
   "cell_type": "code",
   "execution_count": 7,
   "id": "b46e7c69",
   "metadata": {},
   "outputs": [],
   "source": [
    "#rename the value labels for the Likert scale questions\n",
    "data[4:16] <- apply(data[4:16], 2,\n",
    "                    function(x) dplyr::recode(x, \"Fully agree\" = 5, \n",
    "                                                  \"Somewhat agree\" = 4, \n",
    "                                                  \"Neither agree nor disagree\" = 3, \n",
    "                                                  \"Somewhat disagree\" = 2,\n",
    "                                                   \"Fully disagree\" = 1)) \n",
    "\n",
    "#set value labels for closed questions\n",
    "labelled::val_labels(data[4:16]) <- c( \"Fully agree\" = 5, \n",
    "                                            \"Somewhat agree\" = 4, \n",
    "                                            \"Neither agree nor disagree\" = 3, \n",
    "                                            \"Somewhat disagree\" = 2,\n",
    "                                            \"Fully disagree\" = 1)"
   ]
  },
  {
   "cell_type": "markdown",
   "id": "74c0e02d",
   "metadata": {},
   "source": [
    "And now we create the variables' labels."
   ]
  },
  {
   "cell_type": "markdown",
   "id": "8232f5dd",
   "metadata": {},
   "source": [
    "## Creating variables and values labels "
   ]
  },
  {
   "cell_type": "code",
   "execution_count": 8,
   "id": "04da2b21",
   "metadata": {},
   "outputs": [],
   "source": [
    "#create variables' labels\n",
    "data <- data %>% \n",
    "  select(1:16) %>%\n",
    "  apply_labels(\n",
    "  Relationship_to_the_faculty = \"Relationship to the Faculty\",\n",
    "    Gender = \"Gender\",\n",
    "    Fluency_in_Finnish = \"How fluent do you consider yourself in Finnish?\",\n",
    "    feel_positive = \"In general, I feel very positive about the Faculty\",\n",
    "    treated_fairly = \"I am treated fairly at the Faculty\",\n",
    "    safe  = \"I feel safe at the Faculty\",\n",
    "    connected_comm = \"I feel connected to some community at the Faculty\",\n",
    "    positive_role = \"In general, I feel very positive about my role at the Faculty\",\n",
    "    failure = \"At times, I feel like I am a failure in my work or studies\",\n",
    "    close_people = \"I feel close to people at the Faculty\",\n",
    "    support_each_other = \"People at the Faculty support each other\",\n",
    "    support_me = \"People at the Faculty support me\",\n",
    "    respect_each_other = \"People at the Faculty treat each other with respect\",\n",
    "    respect_me = \"People at the Faculty treat me with respect\",\n",
    "    appr_each_other = \"People at the Faculty appreciate each other\",\n",
    "    appr_me = \"People at the Faculty appreciate me\")"
   ]
  },
  {
   "cell_type": "markdown",
   "id": "2131433a",
   "metadata": {},
   "source": [
    "And we add value labels to the background questions."
   ]
  },
  {
   "cell_type": "code",
   "execution_count": 9,
   "id": "d05cc8f8",
   "metadata": {},
   "outputs": [],
   "source": [
    "#add value labels\n",
    "data <- data %>% apply_labels(\n",
    "  Relationship_to_the_faculty = c(  \"Staff: Professor-level and \n",
    "                                    Staff: Other teaching staff\" = 3, \n",
    "                                    \"Phd student\" = 2,\n",
    "                                    \"Bachelor, Master student, \n",
    "                                    exchange student or other\" = 1,                \n",
    "                                    \"Staff: Other; Alumni, collaborator, other\" = 0),\n",
    "                       Gender = c(\"Male\" = 3, \n",
    "                                  \"Female\" = 2, \n",
    "                                  \"Other\" = 1, \n",
    "                                  \"Don’t want to answer\" = 0),\n",
    "           Fluency_in_Finnish = c( \"Native\" = 5,\n",
    "                                   \"Advanced\" = 4, \n",
    "                                    \"Intermediate\" = 3, \n",
    "                                    \"Elementary\" = 2,\n",
    "                                    \"Beginner\" = 1,\n",
    "                                    \"No skills\" = 0)\n",
    ")"
   ]
  },
  {
   "cell_type": "markdown",
   "id": "edce6f30",
   "metadata": {},
   "source": [
    "We can check the result."
   ]
  },
  {
   "cell_type": "code",
   "execution_count": 10,
   "id": "158f02b1",
   "metadata": {},
   "outputs": [],
   "source": [
    "#check the labels\n",
    "#get_labels(data)\n",
    "#or\n",
    "#str(data)"
   ]
  },
  {
   "cell_type": "markdown",
   "id": "759b8e8a",
   "metadata": {},
   "source": [
    "## Creating binary variables for SOM analysis"
   ]
  },
  {
   "cell_type": "markdown",
   "id": "886e522b",
   "metadata": {},
   "source": [
    "Finally, we create binary variables from variable \"Gender\"."
   ]
  },
  {
   "cell_type": "code",
   "execution_count": 11,
   "id": "36eda8a1",
   "metadata": {},
   "outputs": [],
   "source": [
    "# change the categorical variables to a dummy variables\n",
    "data <- dummy_cols(data, select_columns = c('Gender'))\n",
    "\n",
    "#remove unnecessary columns\n",
    "data <- data[, !(colnames(data) %in% c(\"Gender\",\"Gender_NA\"))]\n",
    "\n",
    "#create variable labels for new dummy variables\n",
    "data <- data %>%\n",
    "  apply_labels(\n",
    "    Gender_Female = \"Female gender\",\n",
    "    Gender_Male = \"Male gender\",\n",
    "    Gender_Other = \"Other gender\",\n",
    "    \"Gender_Don’t want to answer\" = \"Gender: Don't want to answer\")"
   ]
  },
  {
   "cell_type": "markdown",
   "id": "734f16af",
   "metadata": {},
   "source": [
    "Check what data set we have now."
   ]
  },
  {
   "cell_type": "code",
   "execution_count": 12,
   "id": "4d2b5719",
   "metadata": {},
   "outputs": [
    {
     "data": {
      "text/html": [
       "<table class=\"dataframe\">\n",
       "<caption>A tibble: 6 × 19</caption>\n",
       "<thead>\n",
       "\t<tr><th scope=col>Relationship_to_the_faculty</th><th scope=col>Fluency_in_Finnish</th><th scope=col>feel_positive</th><th scope=col>treated_fairly</th><th scope=col>safe</th><th scope=col>connected_comm</th><th scope=col>positive_role</th><th scope=col>failure</th><th scope=col>close_people</th><th scope=col>support_each_other</th><th scope=col>support_me</th><th scope=col>respect_each_other</th><th scope=col>respect_me</th><th scope=col>appr_each_other</th><th scope=col>appr_me</th><th scope=col>Gender_Don’t want to answer</th><th scope=col>Gender_Female</th><th scope=col>Gender_Male</th><th scope=col>Gender_Other</th></tr>\n",
       "\t<tr><th scope=col>&lt;labelled&gt;</th><th scope=col>&lt;labelled&gt;</th><th scope=col>&lt;labelled&gt;</th><th scope=col>&lt;labelled&gt;</th><th scope=col>&lt;labelled&gt;</th><th scope=col>&lt;labelled&gt;</th><th scope=col>&lt;labelled&gt;</th><th scope=col>&lt;labelled&gt;</th><th scope=col>&lt;labelled&gt;</th><th scope=col>&lt;labelled&gt;</th><th scope=col>&lt;labelled&gt;</th><th scope=col>&lt;labelled&gt;</th><th scope=col>&lt;labelled&gt;</th><th scope=col>&lt;labelled&gt;</th><th scope=col>&lt;labelled&gt;</th><th scope=col>&lt;labelled&gt;</th><th scope=col>&lt;labelled&gt;</th><th scope=col>&lt;labelled&gt;</th><th scope=col>&lt;labelled&gt;</th></tr>\n",
       "</thead>\n",
       "<tbody>\n",
       "\t<tr><td>0</td><td>5</td><td>1</td><td>1</td><td>5</td><td>1</td><td>1</td><td>2</td><td>1</td><td>2</td><td>2</td><td>2</td><td>1</td><td>2</td><td>2</td><td>0</td><td>0</td><td>1</td><td>0</td></tr>\n",
       "\t<tr><td>2</td><td>5</td><td>4</td><td>2</td><td>5</td><td>4</td><td>2</td><td>4</td><td>4</td><td>4</td><td>4</td><td>2</td><td>3</td><td>2</td><td>3</td><td>0</td><td>1</td><td>0</td><td>0</td></tr>\n",
       "\t<tr><td>0</td><td>5</td><td>2</td><td>4</td><td>5</td><td>3</td><td>3</td><td>1</td><td>2</td><td>2</td><td>3</td><td>3</td><td>3</td><td>3</td><td>3</td><td>0</td><td>1</td><td>0</td><td>0</td></tr>\n",
       "\t<tr><td>2</td><td>5</td><td>4</td><td>5</td><td>5</td><td>5</td><td>5</td><td>4</td><td>4</td><td>5</td><td>5</td><td>5</td><td>5</td><td>5</td><td>5</td><td>0</td><td>1</td><td>0</td><td>0</td></tr>\n",
       "\t<tr><td>1</td><td>5</td><td>4</td><td>4</td><td>4</td><td>3</td><td>4</td><td>5</td><td>2</td><td>4</td><td>4</td><td>4</td><td>4</td><td>3</td><td>4</td><td>0</td><td>1</td><td>0</td><td>0</td></tr>\n",
       "\t<tr><td>3</td><td>5</td><td>5</td><td>5</td><td>5</td><td>5</td><td>5</td><td>1</td><td>5</td><td>5</td><td>5</td><td>5</td><td>5</td><td>5</td><td>5</td><td>0</td><td>0</td><td>1</td><td>0</td></tr>\n",
       "</tbody>\n",
       "</table>\n"
      ],
      "text/latex": [
       "A tibble: 6 × 19\n",
       "\\begin{tabular}{lllllllllllllllllll}\n",
       " Relationship\\_to\\_the\\_faculty & Fluency\\_in\\_Finnish & feel\\_positive & treated\\_fairly & safe & connected\\_comm & positive\\_role & failure & close\\_people & support\\_each\\_other & support\\_me & respect\\_each\\_other & respect\\_me & appr\\_each\\_other & appr\\_me & Gender\\_Don’t want to answer & Gender\\_Female & Gender\\_Male & Gender\\_Other\\\\\n",
       " <labelled> & <labelled> & <labelled> & <labelled> & <labelled> & <labelled> & <labelled> & <labelled> & <labelled> & <labelled> & <labelled> & <labelled> & <labelled> & <labelled> & <labelled> & <labelled> & <labelled> & <labelled> & <labelled>\\\\\n",
       "\\hline\n",
       "\t 0 & 5 & 1 & 1 & 5 & 1 & 1 & 2 & 1 & 2 & 2 & 2 & 1 & 2 & 2 & 0 & 0 & 1 & 0\\\\\n",
       "\t 2 & 5 & 4 & 2 & 5 & 4 & 2 & 4 & 4 & 4 & 4 & 2 & 3 & 2 & 3 & 0 & 1 & 0 & 0\\\\\n",
       "\t 0 & 5 & 2 & 4 & 5 & 3 & 3 & 1 & 2 & 2 & 3 & 3 & 3 & 3 & 3 & 0 & 1 & 0 & 0\\\\\n",
       "\t 2 & 5 & 4 & 5 & 5 & 5 & 5 & 4 & 4 & 5 & 5 & 5 & 5 & 5 & 5 & 0 & 1 & 0 & 0\\\\\n",
       "\t 1 & 5 & 4 & 4 & 4 & 3 & 4 & 5 & 2 & 4 & 4 & 4 & 4 & 3 & 4 & 0 & 1 & 0 & 0\\\\\n",
       "\t 3 & 5 & 5 & 5 & 5 & 5 & 5 & 1 & 5 & 5 & 5 & 5 & 5 & 5 & 5 & 0 & 0 & 1 & 0\\\\\n",
       "\\end{tabular}\n"
      ],
      "text/markdown": [
       "\n",
       "A tibble: 6 × 19\n",
       "\n",
       "| Relationship_to_the_faculty &lt;labelled&gt; | Fluency_in_Finnish &lt;labelled&gt; | feel_positive &lt;labelled&gt; | treated_fairly &lt;labelled&gt; | safe &lt;labelled&gt; | connected_comm &lt;labelled&gt; | positive_role &lt;labelled&gt; | failure &lt;labelled&gt; | close_people &lt;labelled&gt; | support_each_other &lt;labelled&gt; | support_me &lt;labelled&gt; | respect_each_other &lt;labelled&gt; | respect_me &lt;labelled&gt; | appr_each_other &lt;labelled&gt; | appr_me &lt;labelled&gt; | Gender_Don’t want to answer &lt;labelled&gt; | Gender_Female &lt;labelled&gt; | Gender_Male &lt;labelled&gt; | Gender_Other &lt;labelled&gt; |\n",
       "|---|---|---|---|---|---|---|---|---|---|---|---|---|---|---|---|---|---|---|\n",
       "| 0 | 5 | 1 | 1 | 5 | 1 | 1 | 2 | 1 | 2 | 2 | 2 | 1 | 2 | 2 | 0 | 0 | 1 | 0 |\n",
       "| 2 | 5 | 4 | 2 | 5 | 4 | 2 | 4 | 4 | 4 | 4 | 2 | 3 | 2 | 3 | 0 | 1 | 0 | 0 |\n",
       "| 0 | 5 | 2 | 4 | 5 | 3 | 3 | 1 | 2 | 2 | 3 | 3 | 3 | 3 | 3 | 0 | 1 | 0 | 0 |\n",
       "| 2 | 5 | 4 | 5 | 5 | 5 | 5 | 4 | 4 | 5 | 5 | 5 | 5 | 5 | 5 | 0 | 1 | 0 | 0 |\n",
       "| 1 | 5 | 4 | 4 | 4 | 3 | 4 | 5 | 2 | 4 | 4 | 4 | 4 | 3 | 4 | 0 | 1 | 0 | 0 |\n",
       "| 3 | 5 | 5 | 5 | 5 | 5 | 5 | 1 | 5 | 5 | 5 | 5 | 5 | 5 | 5 | 0 | 0 | 1 | 0 |\n",
       "\n"
      ],
      "text/plain": [
       "  Relationship_to_the_faculty Fluency_in_Finnish feel_positive treated_fairly\n",
       "1 0                           5                  1             1             \n",
       "2 2                           5                  4             2             \n",
       "3 0                           5                  2             4             \n",
       "4 2                           5                  4             5             \n",
       "5 1                           5                  4             4             \n",
       "6 3                           5                  5             5             \n",
       "  safe connected_comm positive_role failure close_people support_each_other\n",
       "1 5    1              1             2       1            2                 \n",
       "2 5    4              2             4       4            4                 \n",
       "3 5    3              3             1       2            2                 \n",
       "4 5    5              5             4       4            5                 \n",
       "5 4    3              4             5       2            4                 \n",
       "6 5    5              5             1       5            5                 \n",
       "  support_me respect_each_other respect_me appr_each_other appr_me\n",
       "1 2          2                  1          2               2      \n",
       "2 4          2                  3          2               3      \n",
       "3 3          3                  3          3               3      \n",
       "4 5          5                  5          5               5      \n",
       "5 4          4                  4          3               4      \n",
       "6 5          5                  5          5               5      \n",
       "  Gender_Don’t want to answer Gender_Female Gender_Male Gender_Other\n",
       "1 0                           0             1           0           \n",
       "2 0                           1             0           0           \n",
       "3 0                           1             0           0           \n",
       "4 0                           1             0           0           \n",
       "5 0                           1             0           0           \n",
       "6 0                           0             1           0           "
      ]
     },
     "metadata": {},
     "output_type": "display_data"
    }
   ],
   "source": [
    "#check the data\n",
    "head(data)"
   ]
  },
  {
   "cell_type": "code",
   "execution_count": 13,
   "id": "5e9bee29",
   "metadata": {},
   "outputs": [],
   "source": [
    "#save processed data\n",
    "saveRDS(data, file = \"data/CoC_processed.rds\")"
   ]
  },
  {
   "cell_type": "markdown",
   "id": "d954566e",
   "metadata": {},
   "source": [
    "Now, we can proceed with Self-organizing map analysis."
   ]
  }
 ],
 "metadata": {
  "kernelspec": {
   "display_name": "R",
   "language": "R",
   "name": "ir"
  },
  "language_info": {
   "codemirror_mode": "r",
   "file_extension": ".r",
   "mimetype": "text/x-r-source",
   "name": "R",
   "pygments_lexer": "r",
   "version": "4.2.2"
  }
 },
 "nbformat": 4,
 "nbformat_minor": 5
}
